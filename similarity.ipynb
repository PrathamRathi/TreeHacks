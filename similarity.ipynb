{
 "cells": [
  {
   "cell_type": "code",
   "execution_count": 20,
   "metadata": {},
   "outputs": [],
   "source": [
    "import numpy as np\n",
    "import scipy.stats\n",
    "\n",
    "def jaccard(list1, list2):\n",
    "    intersection = len(list(set(list1).intersection(list2)))\n",
    "    union = (len(list1) + len(list2)) - intersection\n",
    "    return float(intersection) / union\n",
    "\n",
    "def jsd(p, q):\n",
    "    \"\"\"\n",
    "    method to compute the Jenson-Shannon Distance \n",
    "    between two probability distributions\n",
    "    \"\"\"\n",
    "\n",
    "    # convert the vectors into numpy arrays in case that they aren't\n",
    "    p = np.array(p)\n",
    "    q = np.array(q)\n",
    "\n",
    "    # calculate m\n",
    "    m = (p + q) / 2\n",
    "\n",
    "    # compute Jensen Shannon Divergence\n",
    "    divergence = (scipy.stats.entropy(p, m) + scipy.stats.entropy(q, m)) / 2\n",
    "\n",
    "    # compute the Jensen Shannon Distance\n",
    "    distance = (1 - np.sqrt(divergence))\n",
    "\n",
    "    return distance\n",
    "\n",
    "def similarity(jaccard, jensen, weight):\n",
    "    return weight*jaccard + ((1-weight)*jensen)\n"
   ]
  },
  {
   "cell_type": "code",
   "execution_count": 46,
   "metadata": {},
   "outputs": [],
   "source": [
    "def formatJensenTopics(topic_distribution1, topic_distribution2):\n",
    "    max1 = max(topic_distribution1[1])\n",
    "    max2 = max(topic_distribution2[1])\n",
    "    maxTopics = max(max1, max2)\n",
    "    result1 = np.zeros(maxTopics+1)\n",
    "    result2 = np.zeros(maxTopics+1)\n",
    "    for topic, distribution in topic_distribution1:\n",
    "        result1[topic] = distribution\n",
    "    for topic, distribution in topic_distribution2:\n",
    "        result2[topic] = distribution\n",
    "    return result1, result2"
   ]
  },
  {
   "cell_type": "code",
   "execution_count": null,
   "metadata": {},
   "outputs": [],
   "source": [
    "def similarity_between_distribution_and_keyword_pair(distribution_keyword_pair1: tuple, distribution_keyword_pair2: tuple, lambd=0.4) -> int:\n",
    "    distribution1, keywords1 = distribution_keyword_pair1\n",
    "    distribution2, keywords2 = distribution_keyword_pair2\n",
    "\n",
    "    jaccardSim = jaccard(keywords1, keywords2)\n",
    "    JensenShannonSim = jsd(formatJensenTopics(distribution1, distribution2))\n",
    "    \n",
    "    # Lower lambda will put more emphasis on the Jenson Shanon Similarity.\n",
    "    # Higher lambda will put more emphasis on the Jaccard Similarity\n",
    "    similarity(jaccardSim, JensenShannonSim, lambd)"
   ]
  }
 ],
 "metadata": {
  "kernelspec": {
   "display_name": "TreeHacks2023",
   "language": "python",
   "name": "python3"
  },
  "language_info": {
   "codemirror_mode": {
    "name": "ipython",
    "version": 3
   },
   "file_extension": ".py",
   "mimetype": "text/x-python",
   "name": "python",
   "nbconvert_exporter": "python",
   "pygments_lexer": "ipython3",
   "version": "3.10.9 (main, Jan 11 2023, 09:18:20) [Clang 14.0.6 ]"
  },
  "orig_nbformat": 4,
  "vscode": {
   "interpreter": {
    "hash": "b27881f646ba572b88db1eb6553cb1b31e628a381bc21d094b1f6b3ca2c91292"
   }
  }
 },
 "nbformat": 4,
 "nbformat_minor": 2
}
