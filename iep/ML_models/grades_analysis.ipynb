{
 "cells": [
  {
   "cell_type": "code",
   "execution_count": 29,
   "metadata": {},
   "outputs": [],
   "source": [
    "import numpy as np\n",
    "from sklearn.linear_model import LinearRegression\n",
    "\n",
    "def calculate_grade_trend(grades):\n",
    "    # Calculate the regression slope of the student's grades over time\n",
    "    x = np.arange(len(grades)).reshape((-1, 1))\n",
    "    y = np.array(grades).reshape((-1, 1))\n",
    "    model = LinearRegression().fit(x, y)\n",
    "    regression_slope = model.coef_[0][0]\n",
    "\n",
    "    # Calculate the average grade for the subject\n",
    "    average_grade = sum(grades) / len(grades)\n",
    "\n",
    "    return regression_slope, average_grade\n",
    "\n",
    "def is_struggling(grades, regression_threshold, average_threshold, recent_grade_threshold, regression_weight, recent_grade_weight):\n",
    "    regression_slope, average_grade = calculate_grade_trend(grades)\n",
    "\n",
    "    # Determine if the student is struggling based on the regression slope, average grade, and most recent grade\n",
    "    score = (regression_weight * regression_slope) + (recent_grade_weight * grades[-1]) + average_grade\n",
    "    if score < (regression_weight * regression_threshold) + (recent_grade_weight * recent_grade_threshold) + average_threshold:\n",
    "        return True  # struggling\n",
    "    else:\n",
    "        return False  # not struggling"
   ]
  },
  {
   "cell_type": "code",
   "execution_count": 45,
   "metadata": {},
   "outputs": [
    {
     "name": "stdout",
     "output_type": "stream",
     "text": [
      "The student is struggling in the subject\n"
     ]
    }
   ],
   "source": [
    "grades = [80, 84, 90, 85, 70, 64, 75, 72, 79]\n",
    "regression_threshold = -5  # 4% decline in grades per semester\n",
    "average_threshold = 80  # passing threshold for average grade\n",
    "recent_grade_threshold = 85 \n",
    "if is_struggling(grades, regression_threshold, average_threshold, recent_grade_threshold, regression_weight = 1, recent_grade_weight = 2):\n",
    "    print(\"The student is struggling in the subject\")\n",
    "else:\n",
    "    print(\"The student is not struggling in the subject\")"
   ]
  }
 ],
 "metadata": {
  "kernelspec": {
   "display_name": "Python 3",
   "language": "python",
   "name": "python3"
  },
  "language_info": {
   "codemirror_mode": {
    "name": "ipython",
    "version": 3
   },
   "file_extension": ".py",
   "mimetype": "text/x-python",
   "name": "python",
   "nbconvert_exporter": "python",
   "pygments_lexer": "ipython3",
   "version": "3.9.1"
  },
  "orig_nbformat": 4,
  "vscode": {
   "interpreter": {
    "hash": "81794d4967e6c3204c66dcd87b604927b115b27c00565d3d43f05ba2f3a2cb0d"
   }
  }
 },
 "nbformat": 4,
 "nbformat_minor": 2
}
